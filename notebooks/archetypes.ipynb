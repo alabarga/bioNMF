{
 "cells": [
  {
   "cell_type": "code",
   "execution_count": 1,
   "metadata": {},
   "outputs": [],
   "source": [
    "import sys"
   ]
  },
  {
   "cell_type": "code",
   "execution_count": 2,
   "metadata": {},
   "outputs": [
    {
     "name": "stdout",
     "output_type": "stream",
     "text": [
      "Collecting archetypes\n",
      "  Downloading archetypes-0.6.2-py3-none-any.whl.metadata (2.3 kB)\n",
      "Requirement already satisfied: matplotlib in /home/alabarga/BSC/code/environments/tesis/lib/python3.10/site-packages (from archetypes) (3.8.2)\n",
      "Requirement already satisfied: numpy in /home/alabarga/BSC/code/environments/tesis/lib/python3.10/site-packages (from archetypes) (1.26.3)\n",
      "Requirement already satisfied: opt-einsum in /home/alabarga/BSC/code/environments/tesis/lib/python3.10/site-packages (from archetypes) (3.3.0)\n",
      "Requirement already satisfied: scikit-learn in /home/alabarga/BSC/code/environments/tesis/lib/python3.10/site-packages (from archetypes) (1.2.2)\n",
      "Requirement already satisfied: scipy in /home/alabarga/BSC/code/environments/tesis/lib/python3.10/site-packages (from archetypes) (1.11.4)\n",
      "Requirement already satisfied: torch in /home/alabarga/BSC/code/environments/tesis/lib/python3.10/site-packages (from archetypes) (2.1.2)\n",
      "Requirement already satisfied: tqdm in /home/alabarga/BSC/code/environments/tesis/lib/python3.10/site-packages (from archetypes) (4.66.1)\n",
      "Requirement already satisfied: contourpy>=1.0.1 in /home/alabarga/BSC/code/environments/tesis/lib/python3.10/site-packages (from matplotlib->archetypes) (1.2.0)\n",
      "Requirement already satisfied: cycler>=0.10 in /home/alabarga/BSC/code/environments/tesis/lib/python3.10/site-packages (from matplotlib->archetypes) (0.12.1)\n",
      "Requirement already satisfied: fonttools>=4.22.0 in /home/alabarga/BSC/code/environments/tesis/lib/python3.10/site-packages (from matplotlib->archetypes) (4.47.2)\n",
      "Requirement already satisfied: kiwisolver>=1.3.1 in /home/alabarga/BSC/code/environments/tesis/lib/python3.10/site-packages (from matplotlib->archetypes) (1.4.5)\n",
      "Requirement already satisfied: packaging>=20.0 in /home/alabarga/BSC/code/environments/tesis/lib/python3.10/site-packages (from matplotlib->archetypes) (23.2)\n",
      "Requirement already satisfied: pillow>=8 in /home/alabarga/BSC/code/environments/tesis/lib/python3.10/site-packages (from matplotlib->archetypes) (10.2.0)\n",
      "Requirement already satisfied: pyparsing>=2.3.1 in /home/alabarga/BSC/code/environments/tesis/lib/python3.10/site-packages (from matplotlib->archetypes) (3.1.1)\n",
      "Requirement already satisfied: python-dateutil>=2.7 in /home/alabarga/BSC/code/environments/tesis/lib/python3.10/site-packages (from matplotlib->archetypes) (2.8.2)\n",
      "Requirement already satisfied: joblib>=1.1.1 in /home/alabarga/BSC/code/environments/tesis/lib/python3.10/site-packages (from scikit-learn->archetypes) (1.3.2)\n",
      "Requirement already satisfied: threadpoolctl>=2.0.0 in /home/alabarga/BSC/code/environments/tesis/lib/python3.10/site-packages (from scikit-learn->archetypes) (3.2.0)\n",
      "Requirement already satisfied: filelock in /home/alabarga/BSC/code/environments/tesis/lib/python3.10/site-packages (from torch->archetypes) (3.13.1)\n",
      "Requirement already satisfied: typing-extensions in /home/alabarga/BSC/code/environments/tesis/lib/python3.10/site-packages (from torch->archetypes) (4.9.0)\n",
      "Requirement already satisfied: sympy in /home/alabarga/BSC/code/environments/tesis/lib/python3.10/site-packages (from torch->archetypes) (1.12)\n",
      "Requirement already satisfied: networkx in /home/alabarga/BSC/code/environments/tesis/lib/python3.10/site-packages (from torch->archetypes) (3.2.1)\n",
      "Requirement already satisfied: jinja2 in /home/alabarga/BSC/code/environments/tesis/lib/python3.10/site-packages (from torch->archetypes) (3.1.2)\n",
      "Requirement already satisfied: fsspec in /home/alabarga/BSC/code/environments/tesis/lib/python3.10/site-packages (from torch->archetypes) (2023.12.2)\n",
      "Requirement already satisfied: nvidia-cuda-nvrtc-cu12==12.1.105 in /home/alabarga/BSC/code/environments/tesis/lib/python3.10/site-packages (from torch->archetypes) (12.1.105)\n",
      "Requirement already satisfied: nvidia-cuda-runtime-cu12==12.1.105 in /home/alabarga/BSC/code/environments/tesis/lib/python3.10/site-packages (from torch->archetypes) (12.1.105)\n",
      "Requirement already satisfied: nvidia-cuda-cupti-cu12==12.1.105 in /home/alabarga/BSC/code/environments/tesis/lib/python3.10/site-packages (from torch->archetypes) (12.1.105)\n",
      "Requirement already satisfied: nvidia-cudnn-cu12==8.9.2.26 in /home/alabarga/BSC/code/environments/tesis/lib/python3.10/site-packages (from torch->archetypes) (8.9.2.26)\n",
      "Requirement already satisfied: nvidia-cublas-cu12==12.1.3.1 in /home/alabarga/BSC/code/environments/tesis/lib/python3.10/site-packages (from torch->archetypes) (12.1.3.1)\n",
      "Requirement already satisfied: nvidia-cufft-cu12==11.0.2.54 in /home/alabarga/BSC/code/environments/tesis/lib/python3.10/site-packages (from torch->archetypes) (11.0.2.54)\n",
      "Requirement already satisfied: nvidia-curand-cu12==10.3.2.106 in /home/alabarga/BSC/code/environments/tesis/lib/python3.10/site-packages (from torch->archetypes) (10.3.2.106)\n",
      "Requirement already satisfied: nvidia-cusolver-cu12==11.4.5.107 in /home/alabarga/BSC/code/environments/tesis/lib/python3.10/site-packages (from torch->archetypes) (11.4.5.107)\n",
      "Requirement already satisfied: nvidia-cusparse-cu12==12.1.0.106 in /home/alabarga/BSC/code/environments/tesis/lib/python3.10/site-packages (from torch->archetypes) (12.1.0.106)\n",
      "Requirement already satisfied: nvidia-nccl-cu12==2.18.1 in /home/alabarga/BSC/code/environments/tesis/lib/python3.10/site-packages (from torch->archetypes) (2.18.1)\n",
      "Requirement already satisfied: nvidia-nvtx-cu12==12.1.105 in /home/alabarga/BSC/code/environments/tesis/lib/python3.10/site-packages (from torch->archetypes) (12.1.105)\n",
      "Requirement already satisfied: triton==2.1.0 in /home/alabarga/BSC/code/environments/tesis/lib/python3.10/site-packages (from torch->archetypes) (2.1.0)\n",
      "Requirement already satisfied: nvidia-nvjitlink-cu12 in /home/alabarga/BSC/code/environments/tesis/lib/python3.10/site-packages (from nvidia-cusolver-cu12==11.4.5.107->torch->archetypes) (12.3.101)\n",
      "Requirement already satisfied: six>=1.5 in /home/alabarga/BSC/code/environments/tesis/lib/python3.10/site-packages (from python-dateutil>=2.7->matplotlib->archetypes) (1.16.0)\n",
      "Requirement already satisfied: MarkupSafe>=2.0 in /home/alabarga/BSC/code/environments/tesis/lib/python3.10/site-packages (from jinja2->torch->archetypes) (2.1.3)\n",
      "Requirement already satisfied: mpmath>=0.19 in /home/alabarga/BSC/code/environments/tesis/lib/python3.10/site-packages (from sympy->torch->archetypes) (1.3.0)\n",
      "Downloading archetypes-0.6.2-py3-none-any.whl (24 kB)\n",
      "\u001b[33mDEPRECATION: mieaa 0.3.0 has a non-standard dependency specifier requests>=2.19.*. pip 24.1 will enforce this behaviour change. A possible replacement is to upgrade to a newer version of mieaa or contact the author to suggest that they release a version with a conforming dependency specifiers. Discussion can be found at https://github.com/pypa/pip/issues/12063\u001b[0m\u001b[33m\n",
      "\u001b[0mInstalling collected packages: archetypes\n",
      "Successfully installed archetypes-0.6.2\n"
     ]
    }
   ],
   "source": [
    "!{sys.executable} -m pip install archetypes"
   ]
  },
  {
   "cell_type": "code",
   "execution_count": 4,
   "metadata": {},
   "outputs": [],
   "source": [
    "from archetypes import AA, BiAA\n",
    "import numpy as np"
   ]
  },
  {
   "cell_type": "code",
   "execution_count": 17,
   "metadata": {},
   "outputs": [
    {
     "data": {
      "text/plain": [
       "(1000, 10)"
      ]
     },
     "execution_count": 17,
     "metadata": {},
     "output_type": "execute_result"
    }
   ],
   "source": [
    "X = np.random.normal(0, 1, (1000, 10))\n",
    "X.shape"
   ]
  },
  {
   "cell_type": "code",
   "execution_count": 15,
   "metadata": {},
   "outputs": [],
   "source": [
    "aa = AA(n_archetypes=4)"
   ]
  },
  {
   "cell_type": "code",
   "execution_count": 16,
   "metadata": {},
   "outputs": [],
   "source": [
    "X_aa = aa.fit_transform(X)"
   ]
  },
  {
   "cell_type": "code",
   "execution_count": 18,
   "metadata": {},
   "outputs": [
    {
     "data": {
      "text/plain": [
       "(1000, 4)"
      ]
     },
     "execution_count": 18,
     "metadata": {},
     "output_type": "execute_result"
    }
   ],
   "source": [
    "X_aa.shape"
   ]
  },
  {
   "cell_type": "code",
   "execution_count": 19,
   "metadata": {},
   "outputs": [],
   "source": [
    "biaa = BiAA(n_archetypes=(4,4))"
   ]
  },
  {
   "cell_type": "code",
   "execution_count": 20,
   "metadata": {},
   "outputs": [],
   "source": [
    "X_biaa = biaa.fit_transform(X)"
   ]
  },
  {
   "cell_type": "code",
   "execution_count": 23,
   "metadata": {},
   "outputs": [
    {
     "data": {
      "text/plain": [
       "(1000, 4)"
      ]
     },
     "execution_count": 23,
     "metadata": {},
     "output_type": "execute_result"
    }
   ],
   "source": [
    "X_biaa[0].shape"
   ]
  },
  {
   "cell_type": "code",
   "execution_count": 24,
   "metadata": {},
   "outputs": [
    {
     "data": {
      "text/plain": [
       "(4, 10)"
      ]
     },
     "execution_count": 24,
     "metadata": {},
     "output_type": "execute_result"
    }
   ],
   "source": [
    "X_biaa[1].shape"
   ]
  },
  {
   "cell_type": "code",
   "execution_count": null,
   "metadata": {},
   "outputs": [],
   "source": []
  }
 ],
 "metadata": {
  "kernelspec": {
   "display_name": "tesis",
   "language": "python",
   "name": "python3"
  },
  "language_info": {
   "codemirror_mode": {
    "name": "ipython",
    "version": 3
   },
   "file_extension": ".py",
   "mimetype": "text/x-python",
   "name": "python",
   "nbconvert_exporter": "python",
   "pygments_lexer": "ipython3",
   "version": "3.10.12"
  }
 },
 "nbformat": 4,
 "nbformat_minor": 2
}
