{
 "cells": [
  {
   "cell_type": "code",
   "execution_count": 1,
   "metadata": {},
   "outputs": [],
   "source": [
    "import sys\n",
    "import pickle"
   ]
  },
  {
   "cell_type": "code",
   "execution_count": 2,
   "metadata": {},
   "outputs": [],
   "source": [
    "# !{sys.executable} -m pip install theano\n"
   ]
  },
  {
   "cell_type": "code",
   "execution_count": 3,
   "metadata": {},
   "outputs": [],
   "source": [
    "# Adapt numpy to use Theano\n",
    "\n",
    "import numpy as np\n",
    "np.bool = bool"
   ]
  },
  {
   "cell_type": "code",
   "execution_count": 4,
   "metadata": {},
   "outputs": [
    {
     "name": "stderr",
     "output_type": "stream",
     "text": [
      "WARNING (theano.tensor.blas): Using NumPy C-API based implementation for BLAS functions.\n"
     ]
    }
   ],
   "source": [
    "from NetMF.netmf import netmf, load_adjacency_matrix, load_label"
   ]
  },
  {
   "cell_type": "code",
   "execution_count": 5,
   "metadata": {},
   "outputs": [],
   "source": [
    "input_file = './data/ppi_hsa.mat'\n",
    "variable_name = 'network'"
   ]
  },
  {
   "cell_type": "code",
   "execution_count": 11,
   "metadata": {},
   "outputs": [],
   "source": [
    "A = load_adjacency_matrix(input_file,\n",
    "            variable_name=variable_name)"
   ]
  },
  {
   "cell_type": "code",
   "execution_count": 12,
   "metadata": {},
   "outputs": [
    {
     "name": "stdout",
     "output_type": "stream",
     "text": [
      "(3890, 50) <class 'numpy.ndarray'> 0 1\n"
     ]
    }
   ],
   "source": [
    "labels = load_label(input_file)"
   ]
  },
  {
   "cell_type": "code",
   "execution_count": 7,
   "metadata": {},
   "outputs": [],
   "source": [
    "# Params \n",
    "\n",
    "rank=256\n",
    "dim=128\n",
    "window=10\n",
    "negative=1.0\n",
    "large=True"
   ]
  },
  {
   "cell_type": "code",
   "execution_count": 10,
   "metadata": {},
   "outputs": [],
   "source": [
    "%%time\n",
    "embeddings = netmf(A)"
   ]
  },
  {
   "cell_type": "code",
   "execution_count": 14,
   "metadata": {},
   "outputs": [],
   "source": [
    "## Save embeddings\n",
    "with open('embeddings.pkl', 'wb') as f:\n",
    "    pickle.dump(embeddings, f)"
   ]
  },
  {
   "cell_type": "code",
   "execution_count": 8,
   "metadata": {},
   "outputs": [],
   "source": [
    "from NetMF.predict import predict_cv"
   ]
  },
  {
   "cell_type": "code",
   "execution_count": 9,
   "metadata": {},
   "outputs": [],
   "source": [
    "## Load embeddings\n",
    "with open('embeddings.pkl', 'rb') as f:\n",
    "    embeddings = pickle.load(f)"
   ]
  },
  {
   "cell_type": "code",
   "execution_count": 18,
   "metadata": {},
   "outputs": [],
   "source": [
    "import logging\n",
    "\n",
    "# Set the logging level globally to INFO\n",
    "logging.basicConfig(level=logging.INFO)"
   ]
  },
  {
   "cell_type": "code",
   "execution_count": 19,
   "metadata": {},
   "outputs": [
    {
     "name": "stdout",
     "output_type": "stream",
     "text": [
      "(778,) (3112,)\n"
     ]
    },
    {
     "name": "stderr",
     "output_type": "stream",
     "text": [
      "INFO:NetMF.predict:micro f1 0.203942 macro f1 0.163812\n"
     ]
    },
    {
     "name": "stdout",
     "output_type": "stream",
     "text": [
      "(778,) (3112,)\n"
     ]
    },
    {
     "name": "stderr",
     "output_type": "stream",
     "text": [
      "INFO:NetMF.predict:micro f1 0.204623 macro f1 0.175035\n"
     ]
    },
    {
     "name": "stdout",
     "output_type": "stream",
     "text": [
      "(778,) (3112,)\n"
     ]
    },
    {
     "name": "stderr",
     "output_type": "stream",
     "text": [
      "INFO:NetMF.predict:micro f1 0.205966 macro f1 0.174568\n"
     ]
    },
    {
     "name": "stdout",
     "output_type": "stream",
     "text": [
      "(778,) (3112,)\n"
     ]
    },
    {
     "name": "stderr",
     "output_type": "stream",
     "text": [
      "INFO:NetMF.predict:micro f1 0.206014 macro f1 0.170057\n"
     ]
    },
    {
     "name": "stdout",
     "output_type": "stream",
     "text": [
      "(778,) (3112,)\n"
     ]
    },
    {
     "name": "stderr",
     "output_type": "stream",
     "text": [
      "INFO:NetMF.predict:micro f1 0.207448 macro f1 0.174996\n"
     ]
    },
    {
     "name": "stdout",
     "output_type": "stream",
     "text": [
      "(778,) (3112,)\n"
     ]
    },
    {
     "name": "stderr",
     "output_type": "stream",
     "text": [
      "INFO:NetMF.predict:micro f1 0.204012 macro f1 0.163539\n"
     ]
    },
    {
     "name": "stdout",
     "output_type": "stream",
     "text": [
      "(778,) (3112,)\n"
     ]
    },
    {
     "name": "stderr",
     "output_type": "stream",
     "text": [
      "INFO:NetMF.predict:micro f1 0.198991 macro f1 0.166242\n"
     ]
    },
    {
     "name": "stdout",
     "output_type": "stream",
     "text": [
      "(778,) (3112,)\n"
     ]
    },
    {
     "name": "stderr",
     "output_type": "stream",
     "text": [
      "INFO:NetMF.predict:micro f1 0.194601 macro f1 0.153433\n"
     ]
    },
    {
     "name": "stdout",
     "output_type": "stream",
     "text": [
      "(778,) (3112,)\n"
     ]
    },
    {
     "name": "stderr",
     "output_type": "stream",
     "text": [
      "INFO:NetMF.predict:micro f1 0.202644 macro f1 0.169012\n"
     ]
    },
    {
     "name": "stdout",
     "output_type": "stream",
     "text": [
      "(778,) (3112,)\n"
     ]
    },
    {
     "name": "stderr",
     "output_type": "stream",
     "text": [
      "INFO:NetMF.predict:micro f1 0.203084 macro f1 0.158383\n",
      "INFO:NetMF.predict:10 fold validation, training ratio 0.200000\n",
      "INFO:NetMF.predict:Average micro 20.31, Average macro 16.69\n"
     ]
    }
   ],
   "source": [
    "predict_cv(embeddings, labels)"
   ]
  },
  {
   "cell_type": "code",
   "execution_count": 14,
   "metadata": {},
   "outputs": [],
   "source": [
    "from NetMF.predict import logger"
   ]
  },
  {
   "cell_type": "code",
   "execution_count": null,
   "metadata": {},
   "outputs": [],
   "source": []
  },
  {
   "cell_type": "code",
   "execution_count": 17,
   "metadata": {},
   "outputs": [
    {
     "name": "stderr",
     "output_type": "stream",
     "text": [
      "hola\n"
     ]
    }
   ],
   "source": [
    "logger.warning('hola')"
   ]
  },
  {
   "cell_type": "code",
   "execution_count": null,
   "metadata": {},
   "outputs": [],
   "source": []
  }
 ],
 "metadata": {
  "kernelspec": {
   "display_name": "tesis",
   "language": "python",
   "name": "python3"
  },
  "language_info": {
   "codemirror_mode": {
    "name": "ipython",
    "version": 3
   },
   "file_extension": ".py",
   "mimetype": "text/x-python",
   "name": "python",
   "nbconvert_exporter": "python",
   "pygments_lexer": "ipython3",
   "version": "3.10.12"
  }
 },
 "nbformat": 4,
 "nbformat_minor": 2
}
