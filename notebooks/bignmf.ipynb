{
 "cells": [
  {
   "cell_type": "code",
   "execution_count": 1,
   "metadata": {},
   "outputs": [],
   "source": [
    "import sys"
   ]
  },
  {
   "cell_type": "code",
   "execution_count": 2,
   "metadata": {},
   "outputs": [
    {
     "name": "stdout",
     "output_type": "stream",
     "text": [
      "Collecting bignmf\n",
      "  Downloading bignmf-1.0.5-py3-none-any.whl.metadata (3.7 kB)\n",
      "Requirement already satisfied: numpy in /home/alabarga/BSC/code/environments/tesis/lib/python3.10/site-packages (from bignmf) (1.26.3)\n",
      "Requirement already satisfied: pandas in /home/alabarga/BSC/code/environments/tesis/lib/python3.10/site-packages (from bignmf) (2.0.3)\n",
      "Collecting fastcluster (from bignmf)\n",
      "  Downloading fastcluster-1.2.6-cp310-cp310-manylinux_2_5_x86_64.manylinux1_x86_64.manylinux_2_17_x86_64.manylinux2014_x86_64.whl.metadata (4.1 kB)\n",
      "Requirement already satisfied: scipy in /home/alabarga/BSC/code/environments/tesis/lib/python3.10/site-packages (from bignmf) (1.11.4)\n",
      "Requirement already satisfied: python-dateutil>=2.8.2 in /home/alabarga/BSC/code/environments/tesis/lib/python3.10/site-packages (from pandas->bignmf) (2.8.2)\n",
      "Requirement already satisfied: pytz>=2020.1 in /home/alabarga/BSC/code/environments/tesis/lib/python3.10/site-packages (from pandas->bignmf) (2023.3.post1)\n",
      "Requirement already satisfied: tzdata>=2022.1 in /home/alabarga/BSC/code/environments/tesis/lib/python3.10/site-packages (from pandas->bignmf) (2023.4)\n",
      "Requirement already satisfied: six>=1.5 in /home/alabarga/BSC/code/environments/tesis/lib/python3.10/site-packages (from python-dateutil>=2.8.2->pandas->bignmf) (1.16.0)\n",
      "Downloading bignmf-1.0.5-py3-none-any.whl (99 kB)\n",
      "\u001b[2K   \u001b[38;2;114;156;31m━━━━━━━━━━━━━━━━━━━━━━━━━━━━━━━━━━━━━━━━\u001b[0m \u001b[32m99.6/99.6 kB\u001b[0m \u001b[31m3.4 MB/s\u001b[0m eta \u001b[36m0:00:00\u001b[0m\n",
      "\u001b[?25hDownloading fastcluster-1.2.6-cp310-cp310-manylinux_2_5_x86_64.manylinux1_x86_64.manylinux_2_17_x86_64.manylinux2014_x86_64.whl (194 kB)\n",
      "\u001b[2K   \u001b[38;2;114;156;31m━━━━━━━━━━━━━━━━━━━━━━━━━━━━━━━━━━━━━━━━\u001b[0m \u001b[32m194.0/194.0 kB\u001b[0m \u001b[31m10.7 MB/s\u001b[0m eta \u001b[36m0:00:00\u001b[0m\n",
      "\u001b[?25h\u001b[33mDEPRECATION: mieaa 0.3.0 has a non-standard dependency specifier requests>=2.19.*. pip 24.1 will enforce this behaviour change. A possible replacement is to upgrade to a newer version of mieaa or contact the author to suggest that they release a version with a conforming dependency specifiers. Discussion can be found at https://github.com/pypa/pip/issues/12063\u001b[0m\u001b[33m\n",
      "\u001b[0mInstalling collected packages: fastcluster, bignmf\n",
      "Successfully installed bignmf-1.0.5 fastcluster-1.2.6\n"
     ]
    }
   ],
   "source": [
    "!{sys.executable} -m pip install bignmf"
   ]
  },
  {
   "cell_type": "code",
   "execution_count": 1,
   "metadata": {},
   "outputs": [],
   "source": [
    "from bignmf.models.jnmf.integrative import IntegrativeJnmf\n",
    "from bignmf.datasets.datasets import Datasets"
   ]
  },
  {
   "cell_type": "code",
   "execution_count": 2,
   "metadata": {},
   "outputs": [
    {
     "name": "stdout",
     "output_type": "stream",
     "text": [
      "SimulatedX1\n",
      "SimulatedX3\n",
      "SimulatedX2\n"
     ]
    }
   ],
   "source": [
    "Datasets.list_all()"
   ]
  },
  {
   "cell_type": "code",
   "execution_count": 3,
   "metadata": {},
   "outputs": [],
   "source": [
    "data_dict = {}\n",
    "data_dict[\"sim1\"] = Datasets.read(\"SimulatedX1\")\n",
    "data_dict[\"sim2\"] = Datasets.read(\"SimulatedX2\")"
   ]
  },
  {
   "cell_type": "code",
   "execution_count": 4,
   "metadata": {},
   "outputs": [],
   "source": [
    "k = 3\n",
    "iter =100\n",
    "trials = 50\n",
    "lamb = 0.1"
   ]
  },
  {
   "cell_type": "code",
   "execution_count": 5,
   "metadata": {},
   "outputs": [],
   "source": [
    "\n",
    "model = IntegrativeJnmf(data_dict, k, lamb)"
   ]
  },
  {
   "cell_type": "code",
   "execution_count": 6,
   "metadata": {},
   "outputs": [
    {
     "name": "stdout",
     "output_type": "stream",
     "text": [
      "0.7624403416728189\n"
     ]
    }
   ],
   "source": [
    "# Runs the model\n",
    "model.run(trials, iter, verbose=0)\n",
    "print(model.error)"
   ]
  },
  {
   "cell_type": "code",
   "execution_count": 7,
   "metadata": {},
   "outputs": [
    {
     "name": "stdout",
     "output_type": "stream",
     "text": [
      "{'sim1':            1    2    4   12   14   15   20   21   24   26  ...   88   94  105  \\\n",
      "class-0  0.0  0.0  0.0  0.0  0.0  0.0  0.0  0.0  0.0  0.0  ...  1.0  1.0  1.0   \n",
      "class-1  0.0  0.0  0.0  0.0  0.0  0.0  0.0  0.0  0.0  0.0  ...  0.0  0.0  0.0   \n",
      "class-2  1.0  1.0  1.0  1.0  1.0  1.0  1.0  1.0  1.0  1.0  ...  0.0  0.0  0.0   \n",
      "\n",
      "         108  110  116  117  118  120  127  \n",
      "class-0  1.0  1.0  1.0  1.0  1.0  1.0  1.0  \n",
      "class-1  0.0  0.0  0.0  0.0  0.0  0.0  0.0  \n",
      "class-2  0.0  0.0  0.0  0.0  0.0  0.0  0.0  \n",
      "\n",
      "[3 rows x 130 columns], 'sim2':            1    4    5    7    8   10   11   12   14   22  ...  135  137  144  \\\n",
      "class-0  0.0  0.0  0.0  0.0  0.0  0.0  0.0  0.0  0.0  0.0  ...  1.0  1.0  1.0   \n",
      "class-1  0.0  0.0  0.0  0.0  0.0  0.0  0.0  0.0  0.0  0.0  ...  0.0  0.0  0.0   \n",
      "class-2  1.0  1.0  1.0  1.0  1.0  1.0  1.0  1.0  1.0  1.0  ...  0.0  0.0  0.0   \n",
      "\n",
      "         145  146  148  159  160  166  168  \n",
      "class-0  1.0  1.0  1.0  1.0  1.0  1.0  1.0  \n",
      "class-1  0.0  0.0  0.0  0.0  0.0  0.0  0.0  \n",
      "class-2  0.0  0.0  0.0  0.0  0.0  0.0  0.0  \n",
      "\n",
      "[3 rows x 170 columns]}\n"
     ]
    }
   ],
   "source": [
    "# Clusters the data\n",
    "model.cluster_data()\n",
    "print(model.h_cluster)"
   ]
  },
  {
   "cell_type": "code",
   "execution_count": 8,
   "metadata": {},
   "outputs": [
    {
     "name": "stdout",
     "output_type": "stream",
     "text": [
      "[[1.   0.88 0.74 ... 0.   0.   0.06]\n",
      " [0.88 1.   0.78 ... 0.   0.   0.08]\n",
      " [0.74 0.78 1.   ... 0.   0.   0.02]\n",
      " ...\n",
      " [0.   0.   0.   ... 1.   1.   0.66]\n",
      " [0.   0.   0.   ... 1.   1.   0.66]\n",
      " [0.06 0.08 0.02 ... 0.66 0.66 1.  ]]\n"
     ]
    }
   ],
   "source": [
    "#Calculates the consensus matrices\n",
    "model.calc_consensus_matrices() \n",
    "print(model.consensus_matrix_w)"
   ]
  },
  {
   "cell_type": "code",
   "execution_count": 9,
   "metadata": {},
   "outputs": [
    {
     "data": {
      "text/plain": [
       "(45, 45)"
      ]
     },
     "execution_count": 9,
     "metadata": {},
     "output_type": "execute_result"
    }
   ],
   "source": [
    "model.consensus_matrix_w.shape"
   ]
  },
  {
   "cell_type": "code",
   "execution_count": 10,
   "metadata": {},
   "outputs": [],
   "source": [
    "import seaborn as sns"
   ]
  },
  {
   "cell_type": "code",
   "execution_count": 11,
   "metadata": {},
   "outputs": [
    {
     "data": {
      "text/plain": [
       "<Axes: >"
      ]
     },
     "execution_count": 11,
     "metadata": {},
     "output_type": "execute_result"
    },
    {
     "data": {
      "image/png": "[encoded data removed]",
      "text/plain": [
       "<Figure size 640x480 with 2 Axes>"
      ]
     },
     "metadata": {},
     "output_type": "display_data"
    }
   ],
   "source": [
    "sns.heatmap(model.consensus_matrix_w)"
   ]
  },
  {
   "cell_type": "code",
   "execution_count": null,
   "metadata": {},
   "outputs": [],
   "source": []
  }
 ],
 "metadata": {
  "kernelspec": {
   "display_name": "tesis",
   "language": "python",
   "name": "python3"
  },
  "language_info": {
   "codemirror_mode": {
    "name": "ipython",
    "version": 3
   },
   "file_extension": ".py",
   "mimetype": "text/x-python",
   "name": "python",
   "nbconvert_exporter": "python",
   "pygments_lexer": "ipython3",
   "version": "3.10.12"
  }
 },
 "nbformat": 4,
 "nbformat_minor": 2
}
